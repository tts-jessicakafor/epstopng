{
  "cells": [
    {
      "cell_type": "markdown",
      "metadata": {
        "id": "view-in-github",
        "colab_type": "text"
      },
      "source": [
        "<a href=\"https://colab.research.google.com/github/tts-jessicakafor/epstopng/blob/main/EPStoPNGConvertFiles.ipynb\" target=\"_parent\"><img src=\"https://colab.research.google.com/assets/colab-badge.svg\" alt=\"Open In Colab\"/></a>"
      ]
    },
    {
      "cell_type": "code",
      "execution_count": null,
      "metadata": {
        "colab": {
          "base_uri": "https://localhost:8080/"
        },
        "id": "hVYQdoFBqzFI",
        "outputId": "127c6e02-517c-40f2-c638-79a98e36a1a1"
      },
      "outputs": [
        {
          "output_type": "stream",
          "name": "stdout",
          "text": [
            "Looking in indexes: https://pypi.org/simple, https://us-python.pkg.dev/colab-wheels/public/simple/\n",
            "Requirement already satisfied: wand in /usr/local/lib/python3.8/dist-packages (0.6.10)\n",
            "Looking in indexes: https://pypi.org/simple, https://us-python.pkg.dev/colab-wheels/public/simple/\n",
            "Requirement already satisfied: ghostscript in /usr/local/lib/python3.8/dist-packages (0.7)\n",
            "Requirement already satisfied: setuptools>=38.6.0 in /usr/local/lib/python3.8/dist-packages (from ghostscript) (57.4.0)\n"
          ]
        }
      ],
      "source": [
        "#already preinstalled packages in Google Colab\n",
        "!pip install wand\n",
        "!pip install ghostscript\n"
      ]
    },
    {
      "cell_type": "code",
      "execution_count": null,
      "metadata": {
        "colab": {
          "base_uri": "https://localhost:8080/"
        },
        "id": "uh4r8_tdq3G6",
        "outputId": "ec907ffe-d8c5-4b23-d1f0-6badeb1f8281"
      },
      "outputs": [
        {
          "output_type": "stream",
          "name": "stdout",
          "text": [
            "Reading package lists... Done\n",
            "Building dependency tree       \n",
            "Reading state information... Done\n",
            "imagemagick is already the newest version (8:6.9.7.4+dfsg-16ubuntu6.14).\n",
            "The following package was automatically installed and is no longer required:\n",
            "  libnvidia-common-460\n",
            "Use 'apt autoremove' to remove it.\n",
            "0 upgraded, 0 newly installed, 0 to remove and 20 not upgraded.\n"
          ]
        }
      ],
      "source": [
        "!apt install imagemagick"
      ]
    },
    {
      "cell_type": "code",
      "execution_count": null,
      "metadata": {
        "colab": {
          "base_uri": "https://localhost:8080/"
        },
        "id": "TdIdlAJRFkGd",
        "outputId": "11189db4-7dc8-4310-8079-8d0191ee8623"
      },
      "outputs": [
        {
          "output_type": "stream",
          "name": "stdout",
          "text": [
            "apt 1.6.14 (amd64)\n",
            "Package: imagemagick\n",
            "Version: 8:6.9.7.4+dfsg-16ubuntu6.14\n",
            "Priority: optional\n",
            "Section: graphics\n",
            "Origin: Ubuntu\n",
            "Maintainer: Ubuntu Developers <ubuntu-devel-discuss@lists.ubuntu.com>\n",
            "Original-Maintainer: ImageMagick Packaging Team <pkg-gmagick-im-team@lists.alioth.debian.org>\n",
            "Bugs: https://bugs.launchpad.net/ubuntu/+filebug\n",
            "Installed-Size: 119 kB\n",
            "Depends: imagemagick-6.q16 (>= 8:6.9.2.10+dfsg-2~)\n",
            "Homepage: http://www.imagemagick.org/\n",
            "Task: ubuntu-desktop, print-server, kubuntu-desktop, xubuntu-core, xubuntu-desktop, lubuntu-qt-desktop, ubuntustudio-desktop-core, ubuntustudio-desktop, ubuntukylin-desktop, ubuntu-mate-core, ubuntu-mate-desktop, ubuntu-budgie-desktop\n",
            "Supported: 5y\n",
            "Download-Size: 14.2 kB\n",
            "APT-Manual-Installed: yes\n",
            "APT-Sources: http://archive.ubuntu.com/ubuntu bionic-updates/main amd64 Packages\n",
            "Description: image manipulation programs -- binaries\n",
            "\n",
            "Package: imagemagick\n",
            "Version: 8:6.9.7.4+dfsg-16ubuntu6\n",
            "Priority: optional\n",
            "Section: graphics\n",
            "Origin: Ubuntu\n",
            "Maintainer: Ubuntu Developers <ubuntu-devel-discuss@lists.ubuntu.com>\n",
            "Original-Maintainer: ImageMagick Packaging Team <pkg-gmagick-im-team@lists.alioth.debian.org>\n",
            "Bugs: https://bugs.launchpad.net/ubuntu/+filebug\n",
            "Installed-Size: 117 kB\n",
            "Depends: imagemagick-6.q16 (>= 8:6.9.2.10+dfsg-2~)\n",
            "Homepage: http://www.imagemagick.org/\n",
            "Task: ubuntu-desktop, print-server, kubuntu-desktop, xubuntu-core, xubuntu-desktop, lubuntu-qt-desktop, ubuntustudio-desktop-core, ubuntustudio-desktop, ubuntukylin-desktop, ubuntu-mate-core, ubuntu-mate-desktop, ubuntu-budgie-desktop\n",
            "Supported: 5y\n",
            "Download-Size: 14.2 kB\n",
            "APT-Sources: http://archive.ubuntu.com/ubuntu bionic/main amd64 Packages\n",
            "Description: image manipulation programs -- binaries\n",
            "\n"
          ]
        }
      ],
      "source": [
        "#https://stackoverflow.com/a/54230833\n",
        "#!apt remove imagemagick\n",
        "#!rm /etc/ImageMagick-6/policy.xml\n",
        "!apt show imagemagick -v\n",
        "!apt show imagemagick -a\n"
      ]
    },
    {
      "cell_type": "code",
      "execution_count": null,
      "metadata": {
        "colab": {
          "base_uri": "https://localhost:8080/"
        },
        "id": "Cych3WkvkiTV",
        "outputId": "1da7cb6e-bf1a-487b-f327-ce56ac0c9050"
      },
      "outputs": [
        {
          "output_type": "stream",
          "name": "stdout",
          "text": [
            "imagemagick-6-common: /etc/ImageMagick-6/policy.xml\n"
          ]
        }
      ],
      "source": [
        "#Using dpkg to find Imagemagick policy it exists!\n",
        "!dpkg -S policy.xml"
      ]
    },
    {
      "cell_type": "code",
      "execution_count": null,
      "metadata": {
        "colab": {
          "base_uri": "https://localhost:8080/"
        },
        "id": "z4QrXWe3nNYg",
        "outputId": "c30fa9f7-11db-4830-d044-946cc4af27d4"
      },
      "outputs": [
        {
          "output_type": "execute_result",
          "data": {
            "text/plain": [
              "['coder.xml',\n",
              " 'colors.xml',\n",
              " 'delegates.xml',\n",
              " 'log.xml',\n",
              " 'magic.xml',\n",
              " 'mime.xml',\n",
              " 'policy-disabled.xml',\n",
              " 'quantization-table.xml',\n",
              " 'thresholds.xml',\n",
              " 'type-apple.xml',\n",
              " 'type-dejavu.xml',\n",
              " 'type-ghostscript.xml',\n",
              " 'type-windows.xml',\n",
              " 'type.xml']"
            ]
          },
          "metadata": {},
          "execution_count": 30
        }
      ],
      "source": [
        "import os\n",
        "sorted(os.listdir('/etc/ImageMagick-6/'))"
      ]
    },
    {
      "cell_type": "code",
      "execution_count": null,
      "metadata": {
        "id": "dPpMY6l6rHRn",
        "colab": {
          "base_uri": "https://localhost:8080/",
          "height": 201
        },
        "outputId": "eeb844d8-fb74-4e0f-937b-e3336fc63cb2"
      },
      "outputs": [
        {
          "output_type": "error",
          "ename": "FileNotFoundError",
          "evalue": "ignored",
          "traceback": [
            "\u001b[0;31m---------------------------------------------------------------------------\u001b[0m",
            "\u001b[0;31mFileNotFoundError\u001b[0m                         Traceback (most recent call last)",
            "\u001b[0;32m<ipython-input-31-e65916a3e209>\u001b[0m in \u001b[0;36m<module>\u001b[0;34m\u001b[0m\n\u001b[1;32m      1\u001b[0m \u001b[0mxml_policy\u001b[0m \u001b[0;34m=\u001b[0m \u001b[0;34m'/etc/ImageMagick-6/policy.xml'\u001b[0m\u001b[0;34m\u001b[0m\u001b[0;34m\u001b[0m\u001b[0m\n\u001b[1;32m      2\u001b[0m \u001b[0mdisable_policy\u001b[0m \u001b[0;34m=\u001b[0m \u001b[0;34m'/etc/ImageMagick-6/policy-disabled.xml'\u001b[0m\u001b[0;34m\u001b[0m\u001b[0;34m\u001b[0m\u001b[0m\n\u001b[0;32m----> 3\u001b[0;31m \u001b[0mos\u001b[0m\u001b[0;34m.\u001b[0m\u001b[0mrename\u001b[0m\u001b[0;34m(\u001b[0m\u001b[0mxml_policy\u001b[0m\u001b[0;34m,\u001b[0m \u001b[0mdisable_policy\u001b[0m\u001b[0;34m)\u001b[0m\u001b[0;34m\u001b[0m\u001b[0;34m\u001b[0m\u001b[0m\n\u001b[0m",
            "\u001b[0;31mFileNotFoundError\u001b[0m: [Errno 2] No such file or directory: '/etc/ImageMagick-6/policy.xml' -> '/etc/ImageMagick-6/policy-disabled.xml'"
          ]
        }
      ],
      "source": [
        "xml_policy = '/etc/ImageMagick-6/policy.xml'\n",
        "disable_policy = '/etc/ImageMagick-6/policy-disabled.xml'\n",
        "os.rename(xml_policy, disable_policy)"
      ]
    },
    {
      "cell_type": "code",
      "execution_count": null,
      "metadata": {
        "id": "3yQwQnb8ry9Z"
      },
      "outputs": [],
      "source": [
        "sorted(os.listdir('/etc/ImageMagick-6/'))"
      ]
    },
    {
      "cell_type": "code",
      "execution_count": null,
      "metadata": {
        "id": "KFuSje4mHIVO"
      },
      "outputs": [],
      "source": [
        "#/usr/local/lib/python3.8/dist-packages has preinstalled library packages\n",
        "import sys\n",
        "import os\n",
        "print(sys.path)\n",
        "#!apt search imagemagick\n",
        "sorted(os.listdir('/usr/local/lib/python3.8/dist-packages'))"
      ]
    },
    {
      "cell_type": "code",
      "execution_count": null,
      "metadata": {
        "id": "iOZoWt5kphFT"
      },
      "outputs": [],
      "source": [
        "import pandas as pd\n",
        "import numpy as np\n"
      ]
    },
    {
      "cell_type": "code",
      "execution_count": 77,
      "metadata": {
        "colab": {
          "base_uri": "https://localhost:8080/"
        },
        "id": "wMqzG-HGqdPf",
        "outputId": "c1a67f11-b737-4a70-e1ed-6657604ab608"
      },
      "outputs": [
        {
          "output_type": "stream",
          "name": "stdout",
          "text": [
            "Drive already mounted at /content/drive; to attempt to forcibly remount, call drive.mount(\"/content/drive\", force_remount=True).\n"
          ]
        }
      ],
      "source": [
        "from google.colab import drive\n",
        "drive.mount('/content/drive')"
      ]
    },
    {
      "cell_type": "code",
      "execution_count": null,
      "metadata": {
        "id": "GpMLP7Jvy-ll"
      },
      "outputs": [],
      "source": [
        "#Process millions of images\n",
        "!pip install vaex --quiet"
      ]
    },
    {
      "cell_type": "code",
      "source": [
        "import vaex\n",
        "import wand\n",
        "from wand.image import Image\n",
        "import glob\n",
        "import os\n",
        "\n",
        "# Use glob to retrieve all eps files in the specified folder path\n",
        "folder_path = '/content/drive/MyDrive/Images/vector/pattern'\n",
        "eps_files = glob.glob(os.path.join(folder_path, '/**/*.eps'))\n",
        "#eps_files = glob.glob(folder_path + '/*/*.eps')\n",
        "\n",
        "# Create a pandas DataFrame from the list of eps files\n",
        "df = pd.DataFrame({'eps_file': eps_files})\n",
        "\n",
        "# Convert the pandas DataFrame to a vaex DataFrame\n",
        "vdf = vaex.from_pandas(df)\n",
        "print(vdf)\n",
        "\n",
        "# Loop through the vaex DataFrame and convert the eps files to png\n",
        "for index, row in vdf.iterrows():\n",
        "    eps_file = row['eps_file']\n",
        "    png_file = eps_file.replace('.eps', '.png')\n",
        "    \n",
        "    try:\n",
        "        # Use wand to convert the eps file to a png file\n",
        "        with Image(filename=eps_file) as img:\n",
        "            img.format = 'png'\n",
        "            img.save(filename=png_file)\n",
        "    except Exception as e:\n",
        "        # If there is an error, print it and continue the loop\n",
        "        print(f'Error converting {eps_file}: {e}')\n",
        "        continue\n",
        "\n",
        "\n"
      ],
      "metadata": {
        "id": "owucefZlgnyA",
        "colab": {
          "base_uri": "https://localhost:8080/"
        },
        "outputId": "2215996c-1555-44ce-cd3a-5ff253923094"
      },
      "execution_count": 82,
      "outputs": [
        {
          "output_type": "stream",
          "name": "stdout",
          "text": [
            "#    eps_file\n",
            "\n",
            "No rows to display.\n"
          ]
        }
      ]
    }
  ],
  "metadata": {
    "colab": {
      "provenance": [],
      "include_colab_link": true
    },
    "kernelspec": {
      "display_name": "Python 3",
      "name": "python3"
    },
    "language_info": {
      "name": "python"
    }
  },
  "nbformat": 4,
  "nbformat_minor": 0
}